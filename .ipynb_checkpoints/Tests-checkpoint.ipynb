{
 "cells": [
  {
   "cell_type": "code",
   "execution_count": 1,
   "metadata": {},
   "outputs": [],
   "source": [
    "import numpy as np"
   ]
  },
  {
   "cell_type": "code",
   "execution_count": 2,
   "metadata": {},
   "outputs": [],
   "source": [
    "import sqlite3"
   ]
  },
  {
   "cell_type": "code",
   "execution_count": 160,
   "metadata": {},
   "outputs": [],
   "source": [
    "conn = sqlite3.connect(\"../KoboNotesSQLiteFiles/KoboReader.sqlite\")\n",
    "#conn.text_factory = bytes"
   ]
  },
  {
   "cell_type": "code",
   "execution_count": 161,
   "metadata": {},
   "outputs": [],
   "source": [
    "c1 = conn.cursor()\n",
    "c2 = conn.cursor()"
   ]
  },
  {
   "cell_type": "code",
   "execution_count": 162,
   "metadata": {},
   "outputs": [
    {
     "data": {
      "text/plain": [
       "<sqlite3.Cursor at 0x7f9750696d50>"
      ]
     },
     "execution_count": 162,
     "metadata": {},
     "output_type": "execute_result"
    }
   ],
   "source": [
    "c1.execute(\"SELECT ContentId FROM content where ContentType='6' and MimeType like '%pub%' order by Title\")\n",
    "c2.execute(\"SELECT Title FROM content where ContentType='6' and MimeType like '%pub%' order by Title\")"
   ]
  },
  {
   "cell_type": "code",
   "execution_count": 163,
   "metadata": {},
   "outputs": [],
   "source": [
    "#content_ContentId = [str(coco[0])[2:][:-1] for coco in c1.fetchall()]\n",
    "#content_Title =  [str(coco[0])[2:][:-1] for coco in c2.fetchall()]"
   ]
  },
  {
   "cell_type": "code",
   "execution_count": 164,
   "metadata": {},
   "outputs": [],
   "source": [
    "content_ContentId = [coco[0] for coco in c1.fetchall()]\n",
    "content_Title =  [coco[0] for coco in c2.fetchall()]"
   ]
  },
  {
   "cell_type": "code",
   "execution_count": 165,
   "metadata": {},
   "outputs": [],
   "source": [
    "c3 = conn.cursor()"
   ]
  },
  {
   "cell_type": "markdown",
   "metadata": {},
   "source": [
    "para resolver o problema das strings a serem passadas nas queries:\n",
    "    https://stackoverflow.com/questions/31431393/unrecognized-token-in-sqlite-statement?rq=1"
   ]
  },
  {
   "cell_type": "code",
   "execution_count": 169,
   "metadata": {},
   "outputs": [
    {
     "name": "stdout",
     "output_type": "stream",
     "text": [
      "file:///mnt/onboard/Harris, Dan/10_ Happier_ How I Tamed the Voice in My Head, Reduced Stress Without Losing My Edge, and Found Self-Help That Actually Works--A True Story - Harris, Dan.epub\n"
     ]
    },
    {
     "ename": "OperationalError",
     "evalue": "unrecognized token: \":\"",
     "output_type": "error",
     "traceback": [
      "\u001b[0;31m---------------------------------------------------------------------------\u001b[0m",
      "\u001b[0;31mOperationalError\u001b[0m                          Traceback (most recent call last)",
      "\u001b[0;32m<ipython-input-169-ce2948e0ec38>\u001b[0m in \u001b[0;36m<module>\u001b[0;34m()\u001b[0m\n\u001b[1;32m      2\u001b[0m     \u001b[0mprint\u001b[0m\u001b[0;34m(\u001b[0m\u001b[0mcontent_id\u001b[0m\u001b[0;34m)\u001b[0m\u001b[0;34m\u001b[0m\u001b[0m\n\u001b[1;32m      3\u001b[0m     \u001b[0mc3\u001b[0m \u001b[0;34m=\u001b[0m \u001b[0mconn\u001b[0m\u001b[0;34m.\u001b[0m\u001b[0mcursor\u001b[0m\u001b[0;34m(\u001b[0m\u001b[0;34m)\u001b[0m\u001b[0;34m\u001b[0m\u001b[0m\n\u001b[0;32m----> 4\u001b[0;31m     \u001b[0mc3\u001b[0m\u001b[0;34m.\u001b[0m\u001b[0mexecute\u001b[0m\u001b[0;34m(\u001b[0m\u001b[0;34m\"SELECT Text FROM Bookmark where VolumeID=file:///mnt/onboard/Harris, Dan/10_ Happier_ How I Tamed the Voice in My Head, Reduced Stress Without Losing My Edge, and Found Self-Help That Actually Works--A True Story - Harris, Dan.epub\"\u001b[0m\u001b[0;34m)\u001b[0m\u001b[0;34m\u001b[0m\u001b[0m\n\u001b[0m\u001b[1;32m      5\u001b[0m     \u001b[0;32mif\u001b[0m \u001b[0;34m(\u001b[0m\u001b[0mlen\u001b[0m\u001b[0;34m(\u001b[0m\u001b[0mc3\u001b[0m\u001b[0;34m.\u001b[0m\u001b[0mfetchall\u001b[0m\u001b[0;34m(\u001b[0m\u001b[0;34m)\u001b[0m\u001b[0;34m)\u001b[0m\u001b[0;34m)\u001b[0m\u001b[0;34m>\u001b[0m\u001b[0;36m0\u001b[0m\u001b[0;34m:\u001b[0m\u001b[0;34m\u001b[0m\u001b[0m\n\u001b[1;32m      6\u001b[0m         \u001b[0mprint\u001b[0m\u001b[0;34m(\u001b[0m\u001b[0;34m'dsdsds'\u001b[0m\u001b[0;34m)\u001b[0m\u001b[0;34m\u001b[0m\u001b[0m\n",
      "\u001b[0;31mOperationalError\u001b[0m: unrecognized token: \":\""
     ]
    }
   ],
   "source": [
    "for content_id in content_ContentId:\n",
    "    print(content_id)\n",
    "    c3 = conn.cursor()\n",
    "    c3.execute(\"SELECT Text FROM Bookmark where VolumeID=file:///mnt/onboard/Harris, Dan/10_ Happier_ How I Tamed the Voice in My Head, Reduced Stress Without Losing My Edge, and Found Self-Help That Actually Works--A True Story - Harris, Dan.epub\")\n",
    "    if (len(c3.fetchall()))>0:\n",
    "        print('dsdsds')\n",
    "  #  print(c3.fetchall())"
   ]
  },
  {
   "cell_type": "code",
   "execution_count": null,
   "metadata": {},
   "outputs": [],
   "source": [
    "# 1) SELECT * FROM content where ContentType='6' and MimeType like \"%pub%\" order by Title\n",
    "\n",
    "# 2) SELECT * FROM Bookmark where VolumeID=\"ContentId das linhas acima\"\n",
    "\n",
    "# Ir buscar o \"Text\" da query 2 para todas as linhas e se pelo menos uma delas for diferente de vazio, adicionar o Title\n",
    "# da primeira query a uma lista de livros que tem notas"
   ]
  },
  {
   "cell_type": "code",
   "execution_count": 18,
   "metadata": {},
   "outputs": [
    {
     "name": "stdout",
     "output_type": "stream",
     "text": [
      "1): [('but do you actually know what a blog is? I bet you don’t,',), ('Blogging... I don’t think that there is a single person out there, who has access to an Internet connection, that hasn’t heard about blogging, ',), ('segment, the vast majority is represented by the common individual no matter his age or his background. \\nAnother important aspect to keep in mind is that the vast majority of bloggers',), ('The people that are in charge of writing the blogs are called bloggers. ',), ('issue that they are interested in and to which they would like to “hear” the opinions of other people.',), ('A 2011 study conducted on more than 4,000 bloggers, revealed the main reasons behind their hobby',), ('Seventy percent of the oxygen on Earth comes from ocean algae. Without it, we couldn’t breathe.',), ('if you broke off a chunk of coral and placed it in a bucket beneath a sink in London, that chunk would, in most cases, spawn at the same time as other coral of the same species around the world',), ('by shunting blood away from less important areas of the body, the seals were able to keep organs like the brain and heart oxygenated longer, extending the amount of time they could stay submerged. Immersion in water triggered the same mechanism in humans.',), ('When a diver descends to three hundred feet — a depth frequently reached by modern freedivers — vessels in the lungs engorge with blood, preventing them from collapse. And the deeper we dive, the stronger the peripheral vasoconstriction becomes',), ('You can stay submerged in a blacked-out state for about two minutes. At the end of two minutes, your body will wake itself up and breathe one last time before you die. If you’ve been rescued and carried to the surface by the time you take your last gasp, you’ll inhale much-needed air and will probably survive. If you are still underwater, your lungs will fill with water and you’ll drown. N',), ('When he reaches neutral buoyancy, he puts his arms at his side and glides effortlessly down. No matter how many times I see this, it’s always an awe-inspiring and spooky thing to watch',), ('imagine dropping a 1.5-volt battery in the Hudson River in Manhattan and then running a wire from that battery to Portland, Maine, some three hundred and fifty miles away. The dogfish and bonnethead sharks could detect the faint electrical field coming off the wire. This sense is five million times stronger than anything humans can feel. It’s by far the most acute sense yet discovered on the planet',), ('Buyle tells me that the full wetsuit he and the other freedivers are wearing isn’t just meant to keep them warm — the water temperature in Réunion is a balmy 78 degrees — but also to dampen the electrical signals their bodies send',), ('The Guugu Yimithirr, an Australian Aboriginal tribe, had a remarkable sense of direction that they incorporated into their language. Instead of using words meaning “right,” “left,” “front,” and “back,” Guugu Yimithirr used the cardinal directions of north, south, east, and west. If a Guugu Yimithirr tribesman wanted you to make room for him on a bed, he’d ask you to move a few feet west. Guugu Yimithirr didn’t bend backward, they bent northward, or southward, or eastward',), ('Baker said that human magnetoreception was distinct from other senses, like vision and smell. Those senses are conscious, meaning that we are aware of them and immediately perceive it when they turn on (like when you open your eyes) and turn off (when you plug your ears).\\nHuman magnetoreception works differently. It is an unconscious, latent sense; we can’t feel it turning on or off in the same way that, most of the time, we don’t notice that we’re breathing. In this, magnetoreception is like the Master Switch; we don’t know it exists unless we put ourselves in a situation in which we have to use it',), ('-LIMITS, WHICH ALLOWS divers to use any means to attain depth, is the most extreme form of freediving and is, per capita, one of the deadliest sports in the world. Ten years ago, the no-limits freediving record was 525 feet. Since then, at least three divers attempting no-limits dives have died, and dozens have been injured, sometimes permanently.',), ('hidden knives.\\nNitsch started freediving “by accident,” he told me, after an airline lost his scuba equipment on the way to a dive excursion in Egypt in 2000. Since then, he has broken thirty-two freediving world records in every discipline in the sport, and he has become the greatest overall competitive freediver in history',), ('Yes, they were swimming where no human had been before. But this struck me as maddening, like an explorer arriving in previously undiscovered wilderness and focusing only on his GPS coordinates',), ('Around 700 B.C., Homer wrote of divers who latched themselves to heavy rocks and plunged below one hundred feet to cut sponges from the seafloor. In the first century B.C., trade between the Mediterranean coast and Asia exploded, in part because of red coral, a favorite cure-all in Chinese and Indian medicine. Most red coral grew at depths below a hundred feet and could be collected only by freediving. By the eighth century, Vikings in the North Sea were freediving beneath enemy ships and boring holes in their hulls to sink them',), ('All told, there were a dozen accounts from unrelated travelers to different locations over the course of centuries that described the same thing: dives to one hundred feet, with divers lasting up to fifteen minutes on a single breath',), ('And there was never a mention of air tubes, special diets, or metabolism-depressing drugs to assist these freedivers. In fact, most of the Caribbean divers lived under lock and key in deplorable conditions and would puff pipes or cigarettes between dives, sometimes in the water just before heading down',), ('Dolphins can detect the shape, position, and size of larger objects from up to six miles away. Their echolocation is so powerful and sensitive that it can penetrate over a foot deep into sand; it can even “see” beneath skin. Dolphins can peer into the lungs, stomachs, and brains of the animals around them',), (' we too had a sixth sense of echolocation.\\n',), ('LIKE CETACEANS, WE TOO CAN use clicks and echoes to perceive and navigate through our world',), ('Should we ever encounter a freediver in a samba state, we must approach gently and hold his mouth above the surface for thirty seconds. Pinon says this is one of many reasons why freedivers should never dive alone, and why we must always watch our diving partners for a full half minute or longer after they surface. He',), ('The first step in saving a blacked-out diver is yelling “Breathe!” in his ears and calling his name. In the blacked-out state, vision and physical sensation disappear, but hearing remains, and it’s often heightened. Yelling, Pinon says, activates parts of the brain that have not yet shut down. This jolt can override the body’s reflex to close the throat so fresh air can enter the lungs.',), ('There is nothing intuitive or natural about keeping your face underwater until your brain begins hallucinating and your muscles convulse. But this, I am told, is all part of going deep.',), ('No diver of any kind — neither scuba nor freediver — has ever been down past 1,044 feet, which is just one-third of the way to the bathypelagic',), ('In his homemade, hand-built, self-designed submarine, Stanley has spent more time in the deep waters between one and two thousand feet than anyone in history',), ('Blue fish are exceedingly rare in the ocean, because they would be highly visible until they reached the lightless waters of the bathypelagic. Meanwhile, red fish are fairly common because red is the best camouflage in deep water. A fish like a red snapper looks red at the surface, but as it descends, the redness appears to fade away until, at around a hundred feet, it becomes virtually invisible to its prey and predator',), ('scientists added a fluorescent gene to ordinary zebra fish to create GloFish, the world’s first genetically modified fluorescent fish. GloFish are now available at pet stores throughout the United States.\\n',), ('That nagging, need-to-breathe feeling you get holding your breath is triggered not by oxygen deprivation but by buildup of CO2. Comfort with this buildup is what separates good freedivers from great ones, or good ones from guys like me',), ('THERE WAS ANOTHER, SELDOM-DISCUSSED side effect of static training that went beyond increasing CO2 tolerance: it gives you a bone-deep high. This high falls somewhere between the endorphin rush of intense exercise and the dirty, intoxicated feeling you get from drinking bad alcohol in a hurry',), (\" Being dead is absurd. It's the silliest situation you'll find yourself in. Your limbs are floppy and uncooperative. Your mouth hangs open. Being dead is unsightly and stinky and embarrassing, and there's\",), (\"The first operations under ether didn't take place until 1846.) Surgical patients in the late 1700s and early 1800s could feel every cut, stitch, and probing finger. T\",), ('Sperm whale clicks, which are used for echolocation and communication, can be heard several hundred miles away, and possibly around the globe. Sperm whales are the loudest animals on Earth.\\nAt their maximum level of 236 decibels, these clicks are louder than two thousand pounds of TNT exploding two hundred feet away from you, and much louder than the space shuttle taking off from two hundred and fifty feet away',), ('Six times the size of the human brain and in many ways more complex, the sperm whale’s brain is the largest brain that’s ever existed on Earth, as far as we know',), ('SPERM WHALES PRODUCE FOUR DISTINCT vocalization patterns: normal clicks, for tracking down prey at distances of more than a mile; creaks, which sound, despite their name, like machine-gun fire, for homing in on close-range prey; codas, the patterns used during social interactions; and slow clicks, which no one quite understands',), ('I resurfaced from a painful attempt to thirty feet when Prinsloo approached me from the other side of the float and suggested I try the next dive, the deepest of the day, with my eyes closed. This was an exercise in trust, she said; I needed to trust her, and I needed to trust myself. I thought it was a horrible idea, but I didn’t say that. I didn’t say anything. I inhaled, squinted, dove down, and resurfaced one minute later having completed the deepest, longest, and most comfortable dive I’d ever made. I dove to a depth of forty feet without feeling the slightest discomfort.',), ('Corliss and his crew had stumbled upon not only a new species, but an entirely new biological system fueled by chemicals. Scientists called it chemosynthetic life.\\nThe Garden of Eden would be recognized as one of the most significant scientific discoveries in human history',), ('If it is true, the iron-sulfur world theory suggests that life not only could have started in hydrothermal vents but that it had to have started there. No other environment had the pressure and chemical components needed to produce organic compounds that led to early life. The process in the vents was so reliable and consistent that life most likely emerged from hundreds or thousands of vents at around the same time — trillions of different cells replicating in the boiling water of the Earth’s core across the seafloor.\\nA people born from the entirety of the world’s oceans',), ('Dolphins “speak” both first names and last names when they approach other dolphins and, sometimes, human freedivers. They may also be able to send one another sonographic pictures, something researchers call “holographic communication',), ('As on the moon’s surface, gravity on the seafloor still exists below forty feet but is greatly reduced. Strolling around, doing yoga, even underwater hiking are possible for as long as you can hold your breath. William Winram, a Canadian freediver, takes an amble.',), ('From the sixteenth century up until the passage of the Anatomy Act, in 1836, the only cadavers legally available for dissection in Britain were those of executed murderer',), ('Some anatomy instructors mined the timeless affinity of university students for late-night pranks by encouraging their enrollees to raid graveyards and provide bodies for the class. At certain Scottish schools, in the 1700s, the arrangement was more formal: Tuition, writes Ruth Richardson, could be paid in corpses rather than cash',), (' I wonder whether the man, in his dying days, ever stood before a mirror, razor in hand, wondering if it might be his last shave, unaware of the actual last shave that fate had arranged for him.',), ('Embalming fluid companies used to encourage experimentation by sponsoring best-preserved-body contests. ',), (\"By and large, the dead aren't very talented. They can't play water polo, or lace up their boots, or maximize market share. They can't tell a joke, and they can't dance for beans. There is one thing dead people excel at.  They're very good at handling pain.\",), (\"The first windscreens were made of ordinary window glass, which served to cut the wind and, unfortunately, the driver's face in the event of a crash\",), (\"A human leg has no face, no eyes, no hands that once held babies or stroked a lover's cheek. It's difficult to associate it with the living person from which it came\",), (\"Generally speaking, people falling from planes have booked their final flight. According to Snyder's paper, the maximum speed at which a human being has a respectable shot at surviving a feet-first—that's the safest position—fall into water is about 70 mph. Given that the terminal velocity of a falling body is 120 mph, and that it takes only five hundred feet to reach that speed, you are probably not going to fall five miles from an exploding plane and live to be interviewed by Dennis Shanahan.\",), (\"Contrary to rumors about surgically trained thugs cutting people open in hotel rooms and stealing their kidneys, organ recovery is tricky work. If you want to be sure it's done right, you get on a plane and go do it yourself.\",), ('the brain enjoys what is known as \"immunological privilege,\" and can be kept alive on another body\\'s blood supply for weeks without rejection. Because it is protected by the blood brain barrier, it isn\\'t rejected the way other organs and tissues are. W',), ('Mummy elixir was a rather striking example of the cure being worse than the complaint. Though it was prescribed for conditions ranging from palsy to vertigo, by far its most common use was as a treatment for contusions and preventing coagulation of blood: People were swallowing decayed human cadaver for the treatment of bruises.',), ('Even in cases of serious illness, the patient was sometimes better off ignoring the doctor\\'s prescription. According to the Chinese Materia\\nMedica, diabetics were to be treated with \"a cupful of urine from a public latrine.\" (Anticipating resistance, the text instructs that the heinous drink be \"given secretly\")',), ('The Chinese are simply not a squeamish people. Sandy once told me about a famous Chinese recipe called Scream Three Times, in which newborn mice are taken from their mothers (the first scream), dropped in a hot fry pot (second scream), and eaten (third scream)',), ('Then again, we drop live lobsters into boiling water and rid our homes of mice by gluing down their feet and letting them starve, so let us not rush to cast the first stone',), ('Chinese big-city hotel rooms are modeled after their Western counterparts, with triangulated toilet paper ends and complimentary shower caps; however, there is always something slightly, ever so charmingly off. Here, it was a tiny bottle labeled \"Sham Poo\" ',), ('Orwell feared that the truth would be concealed from us. Huxley feared the truth would be drowned in a sea of irrelevance',), (' As Huxley remarked in Brave New World Revisited, the civil libertarians and rationalists who are ever on the alert to oppose tyranny “failed to take into account man’s almost infinite appetite for distractions',), (' manufacturing such a product, the clock has the effect of disassociating time from human events and thus nourishes the belief in an independent world of mathematically measurable sequences. Moment to moment, it turns out, is not God’s conception, or nature’s. It is man conversing with himself about and through a piece of machinery he created',), ('Even such an instrument as the microscope, hardly a tool of everyday use, had embedded within it a quite astonishing idea, not about biology but about psychology. By revealing a world hitherto hidden from view, the microscope suggested a possibility about the structure of the mind.',), ('What does it mean to say that someone has an IQ of 126? There are no numbers in people’s heads. Intelligence does not have quantity or magnitude, except as we believe that it does. And why do we believe that it does? Because we have tools that imply that this is what the mind is like',), (' Our media are our metaphors. Our metaphors create the content of our culture.',), (' I raise no objection to television’s junk. The best things on television are its junk, and no one and nothing is seriously threatened by it. Besides, we do not measure a culture by its output of undisguised trivialities but by what it claims as significant',), ('Whenever language is the principal medium of communication—especially language controlled by the rigors of print—an idea, a fact, a claim is the inevitable result. The idea may be banal, the fact irrelevant, the claim false, but there is no escape from meaning when language is the instrument guiding one’s thought. T',), ('If a sentence refuses to issue forth a fact, a request, a question, an assertion, an explanation, it is nonsense, a mere grammatical shell. As a consequence a language-centered discourse such as was characteristic of eighteenth- and nineteenth-century America tends to be both content-laden and serious, all the more so when it takes its form from print',), ('In a culture dominated by print, public discourse tends to be characterized by a coherent, orderly arrangement of facts and ideas. ',), ('advertising in America may be considered, all by itself, as a metaphor of the descent of the typographic mind, beginning, as it does, with reason, and ending, as it does, with entertainment',), ('Think of Richard Nixon or Jimmy Carter or Billy Graham, or even Albert Einstein, and what will come to your mind is an image, a picture of a face, most likely a face on a television screen (in Einstein’s case, a photograph of a face). Of words, almost nothing will come to mind. This is the difference between thinking in a word-centered culture and thinking in an image-centered culture.',), ('The telegraph made a three-pronged attack on typography’s definition of discourse, introducing on a large scale irrelevance, impotence, and incoherence',), ('most of our daily news is inert, consisting of information that gives us something to talk about but cannot lead to any meaningful action. This fact is the principal legacy of the telegraph: By generating an abundance of irrelevant information, it dramatically altered what may be called the “information-action ratio.',), ('There is no beginning, middle, or end in a world of photographs, as there is none implied by telegraphy. The world is atomized. There is only a present and it need not be part of any story that can be told',), ('Where people once sought information to manage the real contexts of their lives, now they had to invent contexts in which otherwise useless information might be put to some apparent use. The crossword puzzle is one such pseudo-context; the cocktail party is another; the radio quiz shows of the 1930’s and 1940’s and the modern television game show are still others; and the ultimate, perhaps, is the wildly successful “Trivial Pursuit',), ('n one form or another, each of these supplies an answer to the question, “What am I to do with all these disconnected facts?” And in one form or another, the, answer is the same: Why not use them for diversion? for entertainment',), ('Together, this ensemble of electronic techniques called into being a new world—a peek-a-boo world, where now this event, now that, pops into view for a moment, then vanishes again. It is a world without much coherence or sense; a world that does not ask us, indeed, does not permit us to do anything; a world that is, like the child’s game of peek-a-boo, entirely self-contained. But like peek-a-boo, it is also endlessly entertaining.',), ('what I am claiming here is not that television is entertaining but that it has made entertainment itself the natural format for the representation of all experience',), (' In courtrooms, classrooms, operating rooms, board rooms, churches and even airplanes, Americans no longer talk to each other, they entertain each other. They do not exchange ideas; they exchange images',), ('What is happening here is that television is altering the meaning of “being informed” by creating a species of information that might properly be called disinformation',), ('Disinformation does not mean false information. It means misleading information—misplaced, irrelevant, fragmented or superficial information—information that creates the illusion of knowing something but which in fact leads one away from knowing',), ('The television commercial has oriented business away from making products of value and toward making consumers feel valuable, ',), ('We now know that “Sesame Street” encourages children to love school only if school is like “Sesame Street.” Which is to say, we now know that “Sesame Street” undermines what the traditional idea of schooling represents. Whereas a classroom is a place of social interaction, the space in front of a television set is a private preserve',), ('the most important thing one learns is always something about how one learns. As Dewey wrote in another place, we learn what we do. Television educates by teaching children to do what television-viewing requires of them. And that is as precisely remote from what a classroom requires of them as reading a book is from watching a stage show',), ('television’s principal contribution to educational philosophy is the idea that teaching and entertainment are inseparable. ',), ('in doing away with the idea of sequence and continuity in education, television undermines the idea that sequence and continuity have anything to do with thought itself.',), ('Television offers a delicious and, as I have said, original alternative to all of this. We might say there are three commandments that form the philosophy of the education which television offers. The',), ('Thou shalt have no prerequisites\\n\\n  \\n    \\xa0\\n  \\n\\n  ',), ('Thou shalt induce no perplexity\\n\\n  \\n    \\xa0\\n  \\n\\n  ',), ('Thou shalt avoid exposition like the ten plagues visited upon Egypt\\n\\n  ',), ('The name we may properly give to an education without prerequisites, perplexity and exposition is entertainment. And ',), (' Of course, a television production can be used to stimulate interest in lessons, or even as the focal point of a lesson. But what is happening here is that the content of the school curriculum is being determined by the character of television, and even worse, that character is apparently not included as part of what is studied',), ('When a population becomes distracted by trivia, when cultural life is redefined as a perpetual round of entertainments, when serious public conversation becomes a form of baby-talk, when, in short, a people become an audience and their public business a vaudeville act, then a nation finds itself at risk; culture-death is a clear possibility',), ('Who is prepared to take arms against a sea of amusements? To whom do we complain, and when, and in what tone of voice, when serious discourse dissolves into giggles? What is the antidote to a culture’s being drained by laughter?',), ('We would all be better off if television got worse, not better. “The A-Team” and “Cheers” are no threat to our public health. “60 Minutes,” “Eye-Witness News” and “Sesame Street” are.',), ('Until, years from now, when it will be noticed that the massive collection and speed-of-light retrieval of data have been of great value to large-scale organizations but have solved very little of importance to most people and have created at least as many problems for them as they may have solved.',), (' central thesis of computer technology—that the principal difficulty we have in solving problems stems from insufficient data—will go unexamined. Until, years from now, when it will be noticed that the massive collection and speed-of-light retrieval of data have been of great value to large-scale organizations but have solved very little of importance to most people and have created at least as many problems for them as they may have solved',), ('For in the end, he was trying to tell us that what afflicted the people in Brave New World was not that they were laughing instead of thinking, but that they did not know what they were laughing about and why they had stopped thinking',)]\n"
     ]
    }
   ],
   "source": [
    "all_rows = c.fetchall()\n",
    "print('1):', all_rows)"
   ]
  },
  {
   "cell_type": "code",
   "execution_count": 30,
   "metadata": {},
   "outputs": [
    {
     "data": {
      "text/plain": [
       "'You can stay submerged in a blacked-out state for about two minutes. At the end of two minutes, your body will wake itself up and breathe one last time before you die. If you’ve been rescued and carried to the surface by the time you take your last gasp, you’ll inhale much-needed air and will probably survive. If you are still underwater, your lungs will fill with water and you’ll drown. N'"
      ]
     },
     "execution_count": 30,
     "metadata": {},
     "output_type": "execute_result"
    }
   ],
   "source": [
    "all_rows[10][0]"
   ]
  },
  {
   "cell_type": "code",
   "execution_count": null,
   "metadata": {},
   "outputs": [],
   "source": []
  },
  {
   "cell_type": "code",
   "execution_count": null,
   "metadata": {},
   "outputs": [],
   "source": []
  },
  {
   "cell_type": "code",
   "execution_count": null,
   "metadata": {},
   "outputs": [],
   "source": []
  },
  {
   "cell_type": "code",
   "execution_count": null,
   "metadata": {},
   "outputs": [],
   "source": []
  },
  {
   "cell_type": "code",
   "execution_count": null,
   "metadata": {},
   "outputs": [],
   "source": []
  },
  {
   "cell_type": "code",
   "execution_count": null,
   "metadata": {},
   "outputs": [],
   "source": []
  },
  {
   "cell_type": "code",
   "execution_count": null,
   "metadata": {},
   "outputs": [],
   "source": []
  },
  {
   "cell_type": "code",
   "execution_count": null,
   "metadata": {},
   "outputs": [],
   "source": []
  },
  {
   "cell_type": "code",
   "execution_count": 9,
   "metadata": {},
   "outputs": [],
   "source": [
    "conn.close()"
   ]
  },
  {
   "cell_type": "code",
   "execution_count": null,
   "metadata": {},
   "outputs": [],
   "source": []
  },
  {
   "cell_type": "code",
   "execution_count": null,
   "metadata": {},
   "outputs": [],
   "source": []
  },
  {
   "cell_type": "code",
   "execution_count": null,
   "metadata": {},
   "outputs": [],
   "source": []
  },
  {
   "cell_type": "code",
   "execution_count": null,
   "metadata": {},
   "outputs": [],
   "source": []
  }
 ],
 "metadata": {
  "kernelspec": {
   "display_name": "Python 3",
   "language": "python",
   "name": "python3"
  },
  "language_info": {
   "codemirror_mode": {
    "name": "ipython",
    "version": 3
   },
   "file_extension": ".py",
   "mimetype": "text/x-python",
   "name": "python",
   "nbconvert_exporter": "python",
   "pygments_lexer": "ipython3",
   "version": "3.5.2"
  }
 },
 "nbformat": 4,
 "nbformat_minor": 2
}
